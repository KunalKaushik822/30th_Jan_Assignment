{
 "cells": [
  {
   "cell_type": "code",
   "execution_count": 1,
   "id": "a78e23f3-f58b-4f1d-a096-2ac2639a7bba",
   "metadata": {},
   "outputs": [
    {
     "name": "stdin",
     "output_type": "stream",
     "text": [
      "Enter your percentage:  6565\n"
     ]
    },
    {
     "name": "stdout",
     "output_type": "stream",
     "text": [
      " Grade A \n"
     ]
    }
   ],
   "source": [
    "# 1. Write a program to accept percentage from the user and dispaly the grade according to the following criteria:\n",
    "\n",
    "\n",
    "# Marks               Grades\n",
    "# >90                   A\n",
    "# >80 and <=90          B\n",
    "# >=60 and <=80         C\n",
    "# below 60              D\n",
    "\n",
    "\n",
    "Percentage = float(input(\"Enter your percentage: \"))\n",
    "\n",
    "if Percentage >90:\n",
    "    print(\" Grade A \")\n",
    "    \n",
    "elif Percentage >80 and Percentage <=90:\n",
    "    print(\" Grade B \")\n",
    "elif Percentage < 0:\n",
    "    print (\" Please enter the correct percentage\")\n",
    "    \n",
    "elif Percentage >=60 and Percentage <=80:\n",
    "    print(\" Grade C \")\n",
    "else:\n",
    "    print (\" Gdrade D\")\n",
    "    \n",
    "    "
   ]
  },
  {
   "cell_type": "code",
   "execution_count": 2,
   "id": "14a5da68-dc2a-4b60-a09c-bdd426e5480f",
   "metadata": {},
   "outputs": [
    {
     "name": "stdin",
     "output_type": "stream",
     "text": [
      "Enter the cost price of a bike:  546545465\n"
     ]
    },
    {
     "name": "stdout",
     "output_type": "stream",
     "text": [
      " The road tax to be paid is 15% \n"
     ]
    }
   ],
   "source": [
    "# 2. Write a program to accept the cost price of a bike and display the road tax to be paid according to the following criteria:\n",
    "\n",
    "# Tax          Cost Price(in Rs)\n",
    "# 15%              >100000\n",
    "# 10%              >50000 and <= 100000\n",
    "# 5%               <=50000\n",
    "\n",
    "Cost_Price = float(input(\"Enter the cost price of a bike: \"))\n",
    "\n",
    "#Displaying road tax according to cost price\n",
    "\n",
    "if Cost_Price > 100000:\n",
    "    print(\" The road tax to be paid is 15% \")\n",
    "\n",
    "elif Cost_Price > 50000 and Cost_Price <= 100000:\n",
    "    print(\" The road tax to be paid is 10% \")\n",
    "    \n",
    "elif Cost_Price <= 50000:\n",
    "    print(\"The road tax to be paid is 5% \")\n",
    "\n",
    "\n",
    "    "
   ]
  },
  {
   "cell_type": "code",
   "execution_count": 12,
   "id": "b76368c7-8ec3-496c-9495-0198b675560b",
   "metadata": {},
   "outputs": [
    {
     "name": "stdin",
     "output_type": "stream",
     "text": [
      "Please enter your desired city which you want to visit:   Delhi\n"
     ]
    },
    {
     "name": "stdout",
     "output_type": "stream",
     "text": [
      "You may visit : Red Fort\n"
     ]
    }
   ],
   "source": [
    "# 3. Accept any city from the user and display monuments of that city.\n",
    "\n",
    "# City                    Monument\n",
    "\n",
    "# Delhi                   Red Fort\n",
    "# Agra                    Tah Mahal\n",
    "# Jaipur                  Jal Mahal\n",
    "\n",
    "City = input(\"Please enter your desired city which you want to visit:  \")\n",
    "\n",
    "if City.lower() == \"delhi\" :\n",
    "    print(\"You may visit : Red Fort\")\n",
    "    \n",
    "elif City.lower() == \"agra\"  :\n",
    "    print(\"You must visit : Taj Mahal\")\n",
    "    \n",
    "elif City.lower() == \"jaipur\"  : \n",
    "    print(\"Go to visit : Jal Mahal\")\n",
    "    \n",
    "else:\n",
    "    print(\"First of all you must visit big cities like : Delhi , Agra , Jaipur\")"
   ]
  },
  {
   "cell_type": "code",
   "execution_count": 29,
   "id": "746ceded-6a14-45a6-8943-3a7d765aebbd",
   "metadata": {},
   "outputs": [],
   "source": [
    "# 4. Check how many times a given number can be divided by 3 before it is less than or equal to 10.\n"
   ]
  },
  {
   "cell_type": "code",
   "execution_count": 28,
   "id": "e8d7ad7c-fee3-4c7a-860d-960194744408",
   "metadata": {},
   "outputs": [
    {
     "name": "stdin",
     "output_type": "stream",
     "text": [
      "Enter a number:  454545488\n"
     ]
    },
    {
     "name": "stdout",
     "output_type": "stream",
     "text": [
      "The given number can be divided by 3 17 times before it is less than or equal to 10.\n"
     ]
    }
   ],
   "source": [
    "number = int(input(\"Enter a number: \"))\n",
    "count = 0\n",
    "\n",
    "while number > 10:\n",
    "    number /= 3\n",
    "    count += 1\n",
    "\n",
    "print(f\"The given number can be divided by 3 {count} times before it is less than or equal to 10.\")\n"
   ]
  },
  {
   "cell_type": "code",
   "execution_count": 25,
   "id": "39c1ea6b-966e-4a64-8851-8c9fb24762b0",
   "metadata": {},
   "outputs": [],
   "source": [
    "number = number / 3"
   ]
  },
  {
   "cell_type": "code",
   "execution_count": 26,
   "id": "b8853d22-eef1-483e-8091-65945e1c41cc",
   "metadata": {},
   "outputs": [
    {
     "data": {
      "text/plain": [
       "0.0617283950617284"
      ]
     },
     "execution_count": 26,
     "metadata": {},
     "output_type": "execute_result"
    }
   ],
   "source": [
    "number"
   ]
  },
  {
   "cell_type": "code",
   "execution_count": 30,
   "id": "46d349a3-5b7d-4f13-b27c-119183c16222",
   "metadata": {},
   "outputs": [
    {
     "data": {
      "text/plain": [
       "\"A while loop in Python is used to repeatedly execute a block of code as long as a specified condition is true. It is particularly useful when you don't know in advance how many times you need to iterate, and you want to continue executing the loop until a certain condition is met. The general syntax of a while loop in Python is as follows:\\n\\npython\\nCopy code\\nwhile condition:\\n    # code to be executed\\n    # inside the loop\\nHere, condition is a Boolean expression that determines whether the loop should continue or terminate. The code inside the loop will be executed as long as the condition is true.\\n\\nLet's look at a simple example to illustrate the usage of a while loop. Suppose we want to print numbers from 1 to 5 using a while loop:\\n\\npython\\nCopy code\\n# Example 1: Printing numbers from 1 to 5 using a while loop\\ncount = 1\\nwhile count <= 5:\\n    print(count)\\n    count += 1\\nIn this example, the loop starts with count initialized to 1. The condition count <= 5 is true, so the code inside the loop is executed, which prints the value of count and increments it by 1. This process continues until count becomes 6, at which point the condition becomes false, and the loop terminates.\\n\\nNow, let's consider a scenario where you want to take user input until the user enters a specific value, like 'exit': \""
      ]
     },
     "execution_count": 30,
     "metadata": {},
     "output_type": "execute_result"
    }
   ],
   "source": [
    "#5. Why and When to use while loop in python give a detailed description with example\n",
    "\n",
    "\n",
    "\"\"\"A while loop in Python is used to repeatedly execute a block of code as long as a specified condition is true. It is particularly useful when you don't know in advance how many times you need to iterate, and you want to continue executing the loop until a certain condition is met. The general syntax of a while loop in Python is as follows:\n",
    "\n",
    "python\n",
    "Copy code\n",
    "while condition:\n",
    "    # code to be executed\n",
    "    # inside the loop\n",
    "Here, condition is a Boolean expression that determines whether the loop should continue or terminate. The code inside the loop will be executed as long as the condition is true.\n",
    "\n",
    "Let's look at a simple example to illustrate the usage of a while loop. Suppose we want to print numbers from 1 to 5 using a while loop:\n",
    "\n",
    "python\n",
    "Copy code\n",
    "# Example 1: Printing numbers from 1 to 5 using a while loop\n",
    "count = 1\n",
    "while count <= 5:\n",
    "    print(count)\n",
    "    count += 1\n",
    "In this example, the loop starts with count initialized to 1. The condition count <= 5 is true, so the code inside the loop is executed, which prints the value of count and increments it by 1. This process continues until count becomes 6, at which point the condition becomes false, and the loop terminates.\n",
    "\n",
    "Now, let's consider a scenario where you want to take user input until the user enters a specific value, like 'exit': \"\"\""
   ]
  },
  {
   "cell_type": "code",
   "execution_count": 31,
   "id": "f0904749-5171-421c-a008-ab23916aedde",
   "metadata": {},
   "outputs": [
    {
     "name": "stdout",
     "output_type": "stream",
     "text": [
      "* * * * \n",
      "* * * * \n",
      "* * * * \n",
      "* * * * \n"
     ]
    }
   ],
   "source": [
    "# 6.Use nested while loop to print 3 different pattern.\n",
    "\n",
    "# Pattern 1: Square Pattern\n",
    "rows = 4\n",
    "i = 1\n",
    "while i <= rows:\n",
    "    j = 1\n",
    "    while j <= rows:\n",
    "        print(\"* \", end=\"\")\n",
    "        j += 1\n",
    "    print()\n",
    "    i += 1\n"
   ]
  },
  {
   "cell_type": "code",
   "execution_count": 32,
   "id": "e59a1ee7-3353-4be8-a939-006cfd00d12f",
   "metadata": {},
   "outputs": [
    {
     "name": "stdout",
     "output_type": "stream",
     "text": [
      "* \n",
      "* * \n",
      "* * * \n",
      "* * * * \n"
     ]
    }
   ],
   "source": [
    "# Pattern 2: Right Triangle Pattern\n",
    "rows = 4\n",
    "i = 1\n",
    "while i <= rows:\n",
    "    j = 1\n",
    "    while j <= i:\n",
    "        print(\"* \", end=\"\")\n",
    "        j += 1\n",
    "    print()\n",
    "    i += 1\n"
   ]
  },
  {
   "cell_type": "code",
   "execution_count": 33,
   "id": "d8b96258-fcbc-498b-bef0-e84282383f04",
   "metadata": {},
   "outputs": [
    {
     "name": "stdout",
     "output_type": "stream",
     "text": [
      "      * \n",
      "    * * * \n",
      "  * * * * * \n",
      "* * * * * * * \n"
     ]
    }
   ],
   "source": [
    "# Pattern 3: Pyramid Pattern\n",
    "rows = 4\n",
    "i = 1\n",
    "while i <= rows:\n",
    "    spaces = 1\n",
    "    while spaces <= rows - i:\n",
    "        print(\"  \", end=\"\")\n",
    "        spaces += 1\n",
    "\n",
    "    j = 1\n",
    "    while j <= 2 * i - 1:\n",
    "        print(\"* \", end=\"\")\n",
    "        j += 1\n",
    "\n",
    "    print()\n",
    "    i += 1\n"
   ]
  },
  {
   "cell_type": "code",
   "execution_count": 35,
   "id": "05946fdd-7a9d-45a4-b7e3-7ec722f3f4be",
   "metadata": {},
   "outputs": [
    {
     "name": "stdout",
     "output_type": "stream",
     "text": [
      "10\n",
      "9\n",
      "8\n",
      "7\n",
      "6\n",
      "5\n",
      "4\n",
      "3\n",
      "2\n",
      "1\n"
     ]
    }
   ],
   "source": [
    "# 7. Reverse a while loop to display numbers from 10 t0 1.\n",
    "\n",
    "\n",
    "num = 10\n",
    "while num >= 1:\n",
    "    print(num)\n",
    "    num -= 1\n"
   ]
  },
  {
   "cell_type": "code",
   "execution_count": 36,
   "id": "49a3ac88-6003-4c3d-826e-eeb4e6a17758",
   "metadata": {},
   "outputs": [],
   "source": [
    "# 8. Reverse a while loop to display numbers from 10 to 1."
   ]
  },
  {
   "cell_type": "code",
   "execution_count": 37,
   "id": "79aa53bf-384f-4709-aa76-c5a6482b3088",
   "metadata": {},
   "outputs": [
    {
     "name": "stdout",
     "output_type": "stream",
     "text": [
      "10\n",
      "9\n",
      "8\n",
      "7\n",
      "6\n",
      "5\n",
      "4\n",
      "3\n",
      "2\n",
      "1\n"
     ]
    }
   ],
   "source": [
    "num = 10 \n",
    "while num >= 1:\n",
    "    print(num)\n",
    "    num -= 1"
   ]
  },
  {
   "cell_type": "code",
   "execution_count": null,
   "id": "c6ebf1b6-2b3f-4e15-b189-681704289b0e",
   "metadata": {},
   "outputs": [],
   "source": []
  }
 ],
 "metadata": {
  "kernelspec": {
   "display_name": "Python 3 (ipykernel)",
   "language": "python",
   "name": "python3"
  },
  "language_info": {
   "codemirror_mode": {
    "name": "ipython",
    "version": 3
   },
   "file_extension": ".py",
   "mimetype": "text/x-python",
   "name": "python",
   "nbconvert_exporter": "python",
   "pygments_lexer": "ipython3",
   "version": "3.10.8"
  }
 },
 "nbformat": 4,
 "nbformat_minor": 5
}
